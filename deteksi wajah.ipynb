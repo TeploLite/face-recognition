{
 "cells": [
  {
   "cell_type": "code",
   "execution_count": null,
   "id": "cbb30917",
   "metadata": {},
   "outputs": [
    {
     "name": "stdout",
     "output_type": "stream",
     "text": [
      "Berhasil booking!\n",
      "Berhasil booking!\n",
      "Berhasil booking!\n",
      "Berhasil booking!\n",
      "Berhasil booking!\n",
      "Berhasil booking!\n",
      "Berhasil booking!\n",
      "Berhasil booking!\n",
      "Berhasil booking!\n",
      "Berhasil booking!\n",
      "Berhasil booking!\n",
      "Berhasil booking!\n",
      "Berhasil booking!\n",
      "Berhasil booking!\n",
      "Berhasil booking!\n",
      "Berhasil booking!\n",
      "Berhasil booking!\n",
      "Berhasil booking!\n",
      "Berhasil booking!\n",
      "Berhasil booking!\n",
      "Berhasil booking!\n"
     ]
    }
   ],
   "source": [
    "import cv2\n",
    "import pickle\n",
    "from datetime import datetime\n",
    "import requests as http\n",
    "\n",
    "base_url = \"http://localhost/restfull-api-pembelajaran-master/\"\n",
    "face_cascade = cv2.CascadeClassifier('cascade/haarcascade_frontalface_default.xml')\n",
    "cap = cv2.VideoCapture(0)\n",
    "recognizer = cv2.face.LBPHFaceRecognizer_create()\n",
    "recognizer.read(\"train.yml\")\n",
    "\n",
    "labels = {}\n",
    "with open(\"labels.pickle\", \"rb\") as f:\n",
    "    labels = pickle.load(f)\n",
    "    labels = {v: k for k, v in labels.items()}\n",
    "    \n",
    "while True:\n",
    "    ret, frame = cap.read()\n",
    "    gray = cv2.cvtColor(frame, cv2.COLOR_BGR2GRAY)\n",
    "    faces = face_cascade.detectMultiScale(gray, scaleFactor=1.5, minNeighbors=5)\n",
    "    \n",
    "    for (x, y, w, h) in faces:\n",
    "        roi_gray = gray[y:y + h, x:x + w]\n",
    "        roi_color = frame[y:y + h, x:x + w]\n",
    "        \n",
    "        id_, conf = recognizer.predict(roi_gray)\n",
    "        if conf >= 45:\n",
    "            font = cv2.QT_FONT_NORMAL\n",
    "            name = labels[id_]\n",
    "            dataAbsen = {\n",
    "                'nama' : name,\n",
    "                'status': 'booking',\n",
    "                'tgl_presensi': str(datetime.now()),\n",
    "            }\n",
    "            request = http.post(base_url + 'api/presensi/checkin', json=dataAbsen)\n",
    "            if request.status_code == 200:\n",
    "                print(\"Berhasil booking!\")\n",
    "            else:\n",
    "                print(\"Gagal booking!\")\n",
    "            \n",
    "            color = (255, 0, 0)\n",
    "            stroke = 2\n",
    "            cv2.putText(frame, name, (x, y), font, 1, color, stroke, cv2.LINE_AA)\n",
    "            cv2.rectangle(frame, (x, y), (x + w, y + h), (255, 0, 0), (2))\n",
    "    cv2.imshow('cap', frame)\n",
    "    k = cv2.waitKey(20) & 0xff\n",
    "    if k == ord ('q'):\n",
    "        break\n",
    "cap.release()\n",
    "cv2.destroyAllWindows()\n"
   ]
  },
  {
   "cell_type": "code",
   "execution_count": null,
   "id": "ea35d71b",
   "metadata": {},
   "outputs": [],
   "source": []
  },
  {
   "cell_type": "code",
   "execution_count": null,
   "id": "93d06f6e",
   "metadata": {},
   "outputs": [],
   "source": []
  }
 ],
 "metadata": {
  "kernelspec": {
   "display_name": "Python 3 (ipykernel)",
   "language": "python",
   "name": "python3"
  },
  "language_info": {
   "codemirror_mode": {
    "name": "ipython",
    "version": 3
   },
   "file_extension": ".py",
   "mimetype": "text/x-python",
   "name": "python",
   "nbconvert_exporter": "python",
   "pygments_lexer": "ipython3",
   "version": "3.10.2"
  }
 },
 "nbformat": 4,
 "nbformat_minor": 5
}
