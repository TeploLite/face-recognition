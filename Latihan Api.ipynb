{
 "cells": [
  {
   "cell_type": "code",
   "execution_count": 1,
   "metadata": {},
   "outputs": [],
   "source": [
    "import requests as http\n",
    "\n",
    "base_url = \"http://localhost/restfull-api-pembelajaran-master/\""
   ]
  },
  {
   "cell_type": "markdown",
   "metadata": {},
   "source": [
    "# Request HTTP GET"
   ]
  },
  {
   "cell_type": "code",
   "execution_count": 12,
   "metadata": {},
   "outputs": [
    {
     "data": {
      "text/plain": [
       "{'status': True,\n",
       " 'message': 'Data ditemukan!!',\n",
       " 'data': [{'id': '1',\n",
       "   'nomem': '20040067',\n",
       "   'nama': 'Naufal Akbar Fawwazi',\n",
       "   'no_hp': '085225403799',\n",
       "   'alamat': 'Brebes',\n",
       "   'ditambahkan': '2023-01-22 16:34:37'},\n",
       "  {'id': '2',\n",
       "   'nomem': '20040035',\n",
       "   'nama': 'Kartika Ngkas',\n",
       "   'no_hp': '085878767',\n",
       "   'alamat': 'Brebes',\n",
       "   'ditambahkan': '2023-01-22 23:31:05'}]}"
      ]
     },
     "execution_count": 12,
     "metadata": {},
     "output_type": "execute_result"
    }
   ],
   "source": [
    "request = http.get(base_url + 'api/member')\n",
    "response = request.json()\n",
    "\n",
    "response"
   ]
  },
  {
   "cell_type": "code",
   "execution_count": 10,
   "metadata": {},
   "outputs": [
    {
     "data": {
      "text/plain": [
       "{'status': True,\n",
       " 'message': 'Data ditemukan!!',\n",
       " 'data': {'id': '1',\n",
       "  'nomem': '20040067',\n",
       "  'nama': 'Naufal Akbar Fawwazi',\n",
       "  'no_hp': '085225403799',\n",
       "  'alamat': 'Brebes',\n",
       "  'ditambahkan': '2023-01-22 16:34:37'}}"
      ]
     },
     "execution_count": 10,
     "metadata": {},
     "output_type": "execute_result"
    }
   ],
   "source": [
    "nomem = '20040067'\n",
    "request = http.get(base_url + 'api/member/' + nomem)\n",
    "\n",
    "response = request.json()\n",
    "\n",
    "response"
   ]
  },
  {
   "cell_type": "markdown",
   "metadata": {},
   "source": [
    "# Request HTTP Post"
   ]
  },
  {
   "cell_type": "code",
   "execution_count": 11,
   "metadata": {},
   "outputs": [
    {
     "name": "stdout",
     "output_type": "stream",
     "text": [
      "{'status': True, 'message': 'Tambah data member berhasil'}\n"
     ]
    }
   ],
   "source": [
    "data_member = {\n",
    "    'nomem' : '20040035',\n",
    "    'nama' : 'Kartika Ngkas',\n",
    "    'no_hp' : '085878767',\n",
    "    'alamat' : 'Brebes'\n",
    "}\n",
    "request = http.post(base_url + 'api/member/create', json=data_member)\n",
    "if request.status_code == 200:\n",
    "    response = request.json()\n",
    "    print(response)\n",
    "elif request.status_code == 404:\n",
    "    print(\"url tidak ditemukan\")\n",
    "elif request.status_code == 500:\n",
    "    print('serve eror')"
   ]
  },
  {
   "cell_type": "markdown",
   "metadata": {},
   "source": [
    "# Request HTTP Delete"
   ]
  },
  {
   "cell_type": "code",
   "execution_count": 5,
   "metadata": {},
   "outputs": [
    {
     "data": {
      "text/plain": [
       "{'status': True, 'message': 'Data berhasil dihapus!!'}"
      ]
     },
     "execution_count": 5,
     "metadata": {},
     "output_type": "execute_result"
    }
   ],
   "source": [
    "nim = '1804001'\n",
    "request = http.delete(base_url + 'api/mahasiswa/delete/' + nim)\n",
    "\n",
    "response = request.json()\n",
    "\n",
    "response"
   ]
  },
  {
   "cell_type": "code",
   "execution_count": null,
   "metadata": {},
   "outputs": [],
   "source": []
  }
 ],
 "metadata": {
  "kernelspec": {
   "display_name": "Python 3 (ipykernel)",
   "language": "python",
   "name": "python3"
  },
  "language_info": {
   "codemirror_mode": {
    "name": "ipython",
    "version": 3
   },
   "file_extension": ".py",
   "mimetype": "text/x-python",
   "name": "python",
   "nbconvert_exporter": "python",
   "pygments_lexer": "ipython3",
   "version": "3.10.2"
  }
 },
 "nbformat": 4,
 "nbformat_minor": 4
}
